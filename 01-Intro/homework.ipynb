{
 "cells": [
  {
   "cell_type": "markdown",
   "metadata": {},
   "source": [
    "##### **HOMEWORK**\n",
    "##### Set up the environment You need to install Python, NumPy, Pandas, Matplotlib and Seaborn. "
   ]
  },
  {
   "cell_type": "code",
   "execution_count": 4,
   "metadata": {},
   "outputs": [
    {
     "data": {
      "text/plain": [
       "'2.2.3'"
      ]
     },
     "execution_count": 4,
     "metadata": {},
     "output_type": "execute_result"
    }
   ],
   "source": [
    "# Q1. Pandas version\n",
    "# What's the version of Pandas that you installed?\n",
    "# You can get the version information using the __version__ field:\n",
    "\n",
    "import pandas as pd\n",
    "\n",
    "pd.__version__"
   ]
  },
  {
   "cell_type": "code",
   "execution_count": 16,
   "metadata": {},
   "outputs": [
    {
     "name": "stdout",
     "output_type": "stream",
     "text": [
      "There are 2160 records/rows in the dataset\n"
     ]
    }
   ],
   "source": [
    "# Q2. Records count\n",
    "# How many records are in the dataset?\n",
    "# Dataset source: https://raw.githubusercontent.com/alexeygrigorev/datasets/master/laptops.csv\n",
    "\n",
    "df = pd.read_csv('https://raw.githubusercontent.com/alexeygrigorev/datasets/master/laptops.csv')\n",
    "n_records = df.shape[0]\n",
    "print(f'There are {n_records} records/rows in the dataset')"
   ]
  },
  {
   "cell_type": "code",
   "execution_count": 17,
   "metadata": {},
   "outputs": [
    {
     "name": "stdout",
     "output_type": "stream",
     "text": [
      "There are 27 laptop brands in the dataset\n"
     ]
    }
   ],
   "source": [
    "# Q3. Laptop brands\n",
    "# How many laptop brands are presented in the dataset?\n",
    "\n",
    "brands = df['Brand'].nunique()\n",
    "print(f'There are {brands} laptop brands in the dataset')"
   ]
  },
  {
   "cell_type": "code",
   "execution_count": 13,
   "metadata": {},
   "outputs": [
    {
     "name": "stdout",
     "output_type": "stream",
     "text": [
      "The dataset has 3 columns with missing values.\n"
     ]
    }
   ],
   "source": [
    "# Q4. Missing values\n",
    "# How many columns in the dataset have missing values?\n",
    "\n",
    "missing_columns_count = df.isnull().any().sum()\n",
    "print(f'The dataset has {missing_columns_count} columns with missing values.')"
   ]
  },
  {
   "cell_type": "code",
   "execution_count": 22,
   "metadata": {},
   "outputs": [
    {
     "name": "stdout",
     "output_type": "stream",
     "text": [
      "The maximum final price of Dell notebooks in the dataset is 3936.0.\n"
     ]
    }
   ],
   "source": [
    "# Q5. Maximum final price\n",
    "# What's the maximum final price of Dell notebooks in the dataset?\n",
    "\n",
    "max_dell_price = df[df['Brand'].str.lower() == 'dell']['Final Price'].max()\n",
    "print(f'The maximum final price of Dell notebooks in the dataset is {max_dell_price}.')"
   ]
  },
  {
   "cell_type": "code",
   "execution_count": 27,
   "metadata": {},
   "outputs": [
    {
     "name": "stdout",
     "output_type": "stream",
     "text": [
      "Median value of Screen column: 15.6\n",
      "\n",
      "Most frequent Screen: 15.6\n",
      "\n",
      "New median value of Screen: 15.6\n",
      "\n",
      "Has the median value changed? No\n"
     ]
    }
   ],
   "source": [
    "# Q6. Median value of Screen\n",
    "# 1. Find the median value of Screen column in the dataset.\n",
    "# 2. Next, calculate the most frequent value of the same Screen column.\n",
    "# 3. Use fillna method to fill the missing values in Screen column with the most frequent value from the previous step.\n",
    "# 4. Now, calculate the median value of Screen once again.\n",
    "# Has it changed?\n",
    "\n",
    "# Hint: refer to existing mode and median functions to complete the task.\n",
    "\n",
    "# Step 1\n",
    "median_screen = df['Screen'].median()\n",
    "print(f'Median value of Screen column: {median_screen}\\n')\n",
    "\n",
    "# Step 2\n",
    "most_frequent_screen = df['Screen'].mode()[0]\n",
    "print(f'Most frequent Screen: {most_frequent_screen}\\n')\n",
    "\n",
    "# Step 3\n",
    "df['Screen'] = df['Screen'].fillna(most_frequent_screen)\n",
    "\n",
    "# Step 4\n",
    "new_median_screen = df['Screen'].median()\n",
    "print(f'New median value of Screen: {new_median_screen}\\n')\n",
    "\n",
    "# Check if the median value has changed\n",
    "has_changed = median_screen != new_median_screen\n",
    "print(f'Has the median value changed? {\"Yes\" if has_changed else \"No\"}')\n",
    "\n",
    "\n",
    "\n"
   ]
  },
  {
   "cell_type": "code",
   "execution_count": 30,
   "metadata": {},
   "outputs": [
    {
     "name": "stdout",
     "output_type": "stream",
     "text": [
      "Sum of all the elements of the result: 91.30\n"
     ]
    }
   ],
   "source": [
    "# Q7. Sum of weights\n",
    "# 1. Select all the \"Innjoo\" laptops from the dataset.\n",
    "# 2. Select only columns RAM, Storage, Screen.\n",
    "# 3. Get the underlying NumPy array. Let's call it X.\n",
    "# 4. Compute matrix-matrix multiplication between the transpose of X and X. To get the transpose, use X.T. Let's call the result XTX.\n",
    "# 5. Compute the inverse of XTX.\n",
    "# 6. Create an array y with values [1100, 1300, 800, 900, 1000, 1100].\n",
    "# 7. Multiply the inverse of XTX with the transpose of X, and then multiply the result by y. Call the result w.\n",
    "# 8. What's the sum of all the elements of the result?\n",
    "\n",
    "import numpy as np\n",
    "\n",
    "# Step 1 and 2\n",
    "innjoo_laptops = df[df['Brand'].str.lower() == 'innjoo'][['RAM', 'Storage', 'Screen']]\n",
    "\n",
    "# Step 3\n",
    "X = innjoo_laptops.to_numpy()\n",
    "\n",
    "# Step 4\n",
    "XTX = X.T.dot(X)\n",
    "\n",
    "# Step 5\n",
    "XTX_inv = np.linalg.inv(XTX)\n",
    "\n",
    "# Step 6\n",
    "y = np.array([1100, 1300, 800, 900, 1000, 1100])\n",
    "\n",
    "# Step 7\n",
    "w = XTX_inv.dot(X.T).dot(y)\n",
    "\n",
    "# Step 8\n",
    "sum_of_elements = w.sum()\n",
    "print(f'Sum of all the elements of the result: {sum_of_elements:.2f}')\n",
    "\n",
    "# The steps in this cell represent a linear regression model.\n",
    "\n"
   ]
  }
 ],
 "metadata": {
  "kernelspec": {
   "display_name": ".venv",
   "language": "python",
   "name": "python3"
  },
  "language_info": {
   "codemirror_mode": {
    "name": "ipython",
    "version": 3
   },
   "file_extension": ".py",
   "mimetype": "text/x-python",
   "name": "python",
   "nbconvert_exporter": "python",
   "pygments_lexer": "ipython3",
   "version": "3.12.5"
  }
 },
 "nbformat": 4,
 "nbformat_minor": 2
}
