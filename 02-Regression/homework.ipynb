{
 "cells": [
  {
   "cell_type": "markdown",
   "metadata": {},
   "source": [
    "<div align=\"center\">\n",
    " <b>HOMEWORK</b>\n",
    "</div>\n",
    "The goal of this homework is to create a regression model for predicting the final_prices (column 'Final Price')."
   ]
  },
  {
   "cell_type": "code",
   "execution_count": 1,
   "metadata": {},
   "outputs": [],
   "source": [
    "import pandas as pd\n",
    "df = pd.read_csv('https://raw.githubusercontent.com/alexeygrigorev/datasets/master/laptops.csv')"
   ]
  },
  {
   "cell_type": "code",
   "execution_count": 2,
   "metadata": {},
   "outputs": [],
   "source": [
    "# Preparing the dataset\n",
    "# First, we'll normalize the names of the columns:\n",
    "\n",
    "df.columns = df.columns.str.lower().str.replace(' ', '_')\n",
    "# Now, instead of 'Final Price', we have 'final_price'.\n"
   ]
  },
  {
   "cell_type": "code",
   "execution_count": 3,
   "metadata": {},
   "outputs": [],
   "source": [
    "#Next, use only the following columns: 'ram', 'storage', 'screen', 'final_price'\n",
    "df = df[['ram', 'storage', 'screen', 'final_price']]\n"
   ]
  },
  {
   "cell_type": "code",
   "execution_count": 4,
   "metadata": {},
   "outputs": [
    {
     "data": {
      "text/plain": [
       "<Axes: xlabel='final_price', ylabel='Count'>"
      ]
     },
     "execution_count": 4,
     "metadata": {},
     "output_type": "execute_result"
    },
    {
     "data": {
      "image/png": "[encoded data removed]",
      "text/plain": [
       "<Figure size 640x480 with 1 Axes>"
      ]
     },
     "metadata": {},
     "output_type": "display_data"
    }
   ],
   "source": [
    "# EDA\n",
    "# Look at the final_price variable. Does it have a long tail?\n",
    "\n",
    "# plot the long tail if exists\n",
    "import matplotlib.pyplot as plt\n",
    "import seaborn as sns\n",
    "%matplotlib inline\n",
    "\n",
    "sns.histplot(df['final_price'], bins=50, kde=True)\n",
    "\n",
    "# YES, it has a long tail"
   ]
  },
  {
   "cell_type": "markdown",
   "metadata": {},
   "source": [
    "##### Question 1\n",
    "##### There's one column with missing values. What is it?"
   ]
  },
  {
   "cell_type": "code",
   "execution_count": 5,
   "metadata": {},
   "outputs": [
    {
     "name": "stdout",
     "output_type": "stream",
     "text": [
      "The column with missing values is: screen\n"
     ]
    }
   ],
   "source": [
    "missing = df.isnull().sum()\n",
    "missing = missing[missing > 0]\n",
    "print(f'The column with missing values is: {missing[missing > 0].index[0]}')\n"
   ]
  },
  {
   "cell_type": "markdown",
   "metadata": {},
   "source": [
    "##### Question 2\n",
    "What's the median (50% percentile) for variable 'ram'?"
   ]
  },
  {
   "cell_type": "code",
   "execution_count": 6,
   "metadata": {},
   "outputs": [
    {
     "name": "stdout",
     "output_type": "stream",
     "text": [
      "The median for variable ram is: 16.0\n"
     ]
    }
   ],
   "source": [
    "median_ram = df['ram'].median()\n",
    "print(f'The median for variable ram is: {median_ram}')"
   ]
  },
  {
   "cell_type": "markdown",
   "metadata": {},
   "source": [
    "##### Prepare and split the dataset´\n",
    "Shuffle the dataset (the filtered one you created above), use seed 42. \\\n",
    "Split your data in train/val/test sets, with 60%/20%/20% distribution. \\\n",
    "Use the same code as in the lectures\n"
   ]
  },
  {
   "cell_type": "code",
   "execution_count": 7,
   "metadata": {},
   "outputs": [],
   "source": [
    "import numpy as np\n",
    "\n",
    "# find the length of the dataset\n",
    "n = len(df)\n",
    "\n",
    "# determine the size of each dataset\n",
    "n_val = int(0.2 * n)\n",
    "n_test = int(0.2 * n)\n",
    "n_train = n - (n_val + n_test)"
   ]
  },
  {
   "cell_type": "code",
   "execution_count": 8,
   "metadata": {},
   "outputs": [],
   "source": [
    "# shuffle the dataset\n",
    "idx = np.arange(n)\n",
    "np.random.seed(42)\n",
    "np.random.shuffle(idx)\n",
    "\n",
    "df_train = df.iloc[idx[:n_train]]\n",
    "df_val = df.iloc[idx[n_train:n_train+n_val]]\n",
    "df_test = df.iloc[idx[n_train+n_val:]]\n"
   ]
  },
  {
   "cell_type": "code",
   "execution_count": 9,
   "metadata": {},
   "outputs": [],
   "source": [
    "# reset the index of the datasets\n",
    "df_train = df_train.reset_index(drop=True)\n",
    "df_val = df_val.reset_index(drop=True)\n",
    "df_test = df_test.reset_index(drop=True)"
   ]
  },
  {
   "cell_type": "code",
   "execution_count": 10,
   "metadata": {},
   "outputs": [],
   "source": [
    "# Applying the log transformation to the target variable\n",
    "\n",
    "y_train = np.log1p(df_train['final_price'].values)\n",
    "y_val = np.log1p(df_val['final_price'].values)\n",
    "y_test = np.log1p(df_test['final_price'].values)"
   ]
  },
  {
   "cell_type": "code",
   "execution_count": 11,
   "metadata": {},
   "outputs": [],
   "source": [
    "# Deleting the target variable from the datasets\n",
    "\n",
    "del df_train['final_price']\n",
    "del df_val['final_price']\n",
    "del df_test['final_price']"
   ]
  },
  {
   "cell_type": "markdown",
   "metadata": {},
   "source": [
    "##### Question 3\n",
    "We need to deal with missing values for the column from Q1. \\\n",
    "We have two options: fill it with 0 or with the mean of this variable. \\\n",
    "Try both options. For each, train a linear regression model without regularization using the code from the lessons. \\\n",
    "For computing the mean, use the training only! \\\n",
    "Use the validation dataset to evaluate the models and compare the RMSE of each option. \\\n",
    "Round the RMSE scores to 2 decimal digits using round(score, 2) \\\n",
    "Which option gives better RMSE?"
   ]
  },
  {
   "cell_type": "code",
   "execution_count": 12,
   "metadata": {},
   "outputs": [],
   "source": [
    "# Functions\n",
    "\n",
    "def train_linear_regression(X, y):\n",
    "    ones = np.ones(X.shape[0])\n",
    "    X = np.column_stack([ones, X])\n",
    "\n",
    "    XTX = X.T.dot(X)\n",
    "    XTX_inv = np.linalg.inv(XTX)\n",
    "    w_full = XTX_inv.dot(X.T).dot(y)\n",
    "\n",
    "    return w_full[0], w_full[1:]\n",
    "\n",
    "def rmse(y, y_pred):\n",
    "    se = (y - y_pred) ** 2\n",
    "    mse = se.mean()\n",
    "    return np.sqrt(mse)\n",
    "\n",
    "base = [\n",
    "    'ram',\n",
    "    'storage',\n",
    "    'screen'\n",
    "]\n",
    "\n",
    "def prepare_X(df):\n",
    "    df_num = df[base]\n",
    "    df_num = df_num.fillna(0)\n",
    "    X = df_num.values\n",
    "    return X"
   ]
  },
  {
   "cell_type": "markdown",
   "metadata": {},
   "source": [
    "##### 1st option / fill with 0"
   ]
  },
  {
   "cell_type": "code",
   "execution_count": 13,
   "metadata": {},
   "outputs": [],
   "source": [
    "# Let's fill it with 0\n",
    "df_train1 = df_train\n",
    "df_train1['screen'] = df_train1['screen'].fillna(0)\n",
    "df_train1 = df_train1.values # convert to numpy array\n",
    "\n",
    "w0, w = train_linear_regression(df_train1, y_train)\n"
   ]
  },
  {
   "cell_type": "code",
   "execution_count": 14,
   "metadata": {},
   "outputs": [],
   "source": [
    "y_pred1 = w0 + df_train1.dot(w)"
   ]
  },
  {
   "cell_type": "code",
   "execution_count": 15,
   "metadata": {},
   "outputs": [
    {
     "data": {
      "text/plain": [
       "<Axes: ylabel='Count'>"
      ]
     },
     "execution_count": 15,
     "metadata": {},
     "output_type": "execute_result"
    },
    {
     "data": {
      "image/png": "[encoded data removed]",
      "text/plain": [
       "<Figure size 640x480 with 1 Axes>"
      ]
     },
     "metadata": {},
     "output_type": "display_data"
    }
   ],
   "source": [
    "sns.histplot(y_pred1, color='red', alpha=0.5, bins=50)\n",
    "sns.histplot(y_train, color='blue', alpha=0.5, bins=50)"
   ]
  },
  {
   "cell_type": "code",
   "execution_count": 16,
   "metadata": {},
   "outputs": [
    {
     "data": {
      "text/plain": [
       "np.float64(0.45)"
      ]
     },
     "execution_count": 16,
     "metadata": {},
     "output_type": "execute_result"
    }
   ],
   "source": [
    "round(rmse(y_train, y_pred1),2)"
   ]
  },
  {
   "cell_type": "code",
   "execution_count": 17,
   "metadata": {},
   "outputs": [
    {
     "data": {
      "text/plain": [
       "np.float64(0.43)"
      ]
     },
     "execution_count": 17,
     "metadata": {},
     "output_type": "execute_result"
    }
   ],
   "source": [
    "X_val = prepare_X(df_val)\n",
    "y_pred11 = w0 + X_val.dot(w)\n",
    "round(rmse(y_val, y_pred11),2)"
   ]
  },
  {
   "cell_type": "markdown",
   "metadata": {},
   "source": [
    "##### 2st option / fill with the mean"
   ]
  },
  {
   "cell_type": "code",
   "execution_count": 18,
   "metadata": {},
   "outputs": [],
   "source": [
    "# Let's fill it with the mean\n",
    "df_train2 = df_train\n",
    "df_train2['screen'] = df_train2['screen'].fillna(df_train2['screen'].mean())\n",
    "df_train2 = df_train2.values # convert to numpy array"
   ]
  },
  {
   "cell_type": "code",
   "execution_count": 19,
   "metadata": {},
   "outputs": [],
   "source": [
    "w0_2, w2 = train_linear_regression(df_train2, y_train)\n",
    "y_pred2 = w0_2 + df_train2.dot(w2)"
   ]
  },
  {
   "cell_type": "code",
   "execution_count": 20,
   "metadata": {},
   "outputs": [
    {
     "data": {
      "text/plain": [
       "<Axes: ylabel='Count'>"
      ]
     },
     "execution_count": 20,
     "metadata": {},
     "output_type": "execute_result"
    },
    {
     "data": {
      "image/png": "[encoded data removed]",
      "text/plain": [
       "<Figure size 640x480 with 1 Axes>"
      ]
     },
     "metadata": {},
     "output_type": "display_data"
    }
   ],
   "source": [
    "sns.histplot(y_pred2, color='red', alpha=0.5, bins=50)\n",
    "sns.histplot(y_train, color='blue', alpha=0.5, bins=50)"
   ]
  },
  {
   "cell_type": "code",
   "execution_count": 21,
   "metadata": {},
   "outputs": [
    {
     "data": {
      "text/plain": [
       "np.float64(0.45)"
      ]
     },
     "execution_count": 21,
     "metadata": {},
     "output_type": "execute_result"
    }
   ],
   "source": [
    "round(rmse(y_train, y_pred2),2)"
   ]
  },
  {
   "cell_type": "code",
   "execution_count": 22,
   "metadata": {},
   "outputs": [
    {
     "data": {
      "text/plain": [
       "np.float64(0.43)"
      ]
     },
     "execution_count": 22,
     "metadata": {},
     "output_type": "execute_result"
    }
   ],
   "source": [
    "X_val = prepare_X(df_val)\n",
    "y_pred22 = w0 + X_val.dot(w)\n",
    "round(rmse(y_val, y_pred22),2)"
   ]
  },
  {
   "cell_type": "markdown",
   "metadata": {},
   "source": [
    "Answer: The RMSE of the model with the mean is the same for screen = 0 and screen = mean"
   ]
  },
  {
   "cell_type": "markdown",
   "metadata": {},
   "source": [
    "#### Question 4\n",
    "Now let's train a regularized linear regression. \\\n",
    "For this question, fill the NAs with 0. \\\n",
    "Try different values of r from this list: [0, 0.01, 0.1, 1, 5, 10, 100]. \\\n",
    "Use RMSE to evaluate the model on the validation dataset. \\\n",
    "Round the RMSE scores to 2 decimal digits. \\\n",
    "Which r gives the best RMSE? \\\n",
    "If there are multiple options, select the smallest r."
   ]
  },
  {
   "cell_type": "code",
   "execution_count": 23,
   "metadata": {},
   "outputs": [],
   "source": [
    "def train_linear_regression_reg(X, y, r=0.001):\n",
    "    ones = np.ones(X.shape[0])\n",
    "    X = np.column_stack([ones, X])\n",
    "\n",
    "    XTX = X.T.dot(X)\n",
    "    XTX = XTX + r * np.eye(XTX.shape[0])\n",
    "\n",
    "    XTX_inv = np.linalg.inv(XTX)\n",
    "    w_full = XTX_inv.dot(X.T).dot(y)\n",
    "\n",
    "    return w_full[0], w_full[1:]"
   ]
  },
  {
   "cell_type": "code",
   "execution_count": 24,
   "metadata": {},
   "outputs": [
    {
     "name": "stdout",
     "output_type": "stream",
     "text": [
      "When r = 0, the RMSE is 0.43\n",
      "When r = 0.01, the RMSE is 0.43\n",
      "When r = 1, the RMSE is 0.43\n",
      "When r = 10, the RMSE is 0.51\n",
      "When r = 100, the RMSE is 0.67\n",
      "\n",
      "The best r is 0 with RMSE 0.43\n"
     ]
    }
   ],
   "source": [
    "df_train3 = df_train\n",
    "best_r = None\n",
    "best_rmse = float('inf')\n",
    "\n",
    "for r in [0, 0.01, 1, 10, 100]:\n",
    "    X_train3 = prepare_X(df_train3)\n",
    "    w0_3, w_3 = train_linear_regression_reg(X_train3, y_train, r=r)\n",
    "\n",
    "    X_val_3 = prepare_X(df_val)\n",
    "    y_pred_3 = w0_3 + X_val_3.dot(w_3)\n",
    "    current_rmse = round(rmse(y_val, y_pred_3), 2)\n",
    "\n",
    "    print(f'When r = {r}, the RMSE is {current_rmse}')\n",
    "\n",
    "    if current_rmse < best_rmse:\n",
    "        best_rmse = current_rmse\n",
    "        best_r = r\n",
    "\n",
    "print(f'\\nThe best r is {best_r} with RMSE {best_rmse}')"
   ]
  },
  {
   "cell_type": "markdown",
   "metadata": {},
   "source": [
    "#### Question 5\n",
    "We used seed 42 for splitting the data. Let's find out how selecting the seed influences our score. \\\n",
    "Try different seed values: [0, 1, 2, 3, 4, 5, 6, 7, 8, 9]. \\\n",
    "For each seed, do the train/validation/test split with 60%/20%/20% distribution. \\\n",
    "Fill the missing values with 0 and train a model without regularization. \\\n",
    "For each seed, evaluate the model on the validation dataset and collect the RMSE scores. \\\n",
    "What's the standard deviation of all the scores? To compute the standard deviation, use np.std. \\\n",
    "Round the result to 3 decimal digits (round(std, 3))"
   ]
  },
  {
   "cell_type": "code",
   "execution_count": 25,
   "metadata": {},
   "outputs": [
    {
     "name": "stdout",
     "output_type": "stream",
     "text": [
      "Seed= 0 , Rmse score = 650.09\n",
      "Seed= 1 , Rmse score = 610.85\n",
      "Seed= 2 , Rmse score = 554.12\n",
      "Seed= 3 , Rmse score = 584.52\n",
      "Seed= 4 , Rmse score = 582.52\n",
      "Seed= 5 , Rmse score = 623.52\n",
      "Seed= 6 , Rmse score = 608.45\n",
      "Seed= 7 , Rmse score = 563.1\n",
      "Seed= 8 , Rmse score = 574.91\n",
      "Seed= 9 , Rmse score = 591.61\n"
     ]
    }
   ],
   "source": [
    "rmse_scores = []\n",
    "\n",
    "for s in [0, 1, 2, 3, 4, 5, 6, 7, 8, 9]:\n",
    "\n",
    "    np.random.seed(s)\n",
    "    np.random.shuffle(idx)\n",
    "\n",
    "    df_train5 = df.iloc[idx[:n_train]].reset_index(drop=True)\n",
    "    df_val5 = df.iloc[idx[n_train:n_train+n_val]].reset_index(drop=True)\n",
    "    df_test5 = df.iloc[idx[n_train+n_val:]].reset_index(drop=True)\n",
    "\n",
    "    y_train5 = df_train5.final_price.values\n",
    "    y_val5 = df_val5.final_price.values\n",
    "    y_test5 = df_test5.final_price.values\n",
    "\n",
    "    del df_train5['final_price']\n",
    "    del df_val5['final_price']\n",
    "    del df_test5['final_price']\n",
    "\n",
    "    # train\n",
    "    X_train5 = prepare_X(df_train5)\n",
    "    w0_5, w5 = train_linear_regression(X_train5, y_train5)\n",
    "\n",
    "    # validate\n",
    "    X_val5 = prepare_X(df_val5)\n",
    "    y_pred5 = w0_5 + X_val5.dot(w5)\n",
    "\n",
    "\n",
    "    # rmse\n",
    "    score = round(rmse(y_val5, y_pred5),2)\n",
    "    rmse_scores.append(score)\n",
    "\n",
    "    print('Seed= {} , Rmse score = {}'.format(s,score))"
   ]
  },
  {
   "cell_type": "code",
   "execution_count": 26,
   "metadata": {},
   "outputs": [
    {
     "name": "stdout",
     "output_type": "stream",
     "text": [
      "The standard deviation of all the scores is:  27.651\n"
     ]
    }
   ],
   "source": [
    "# what is the standard deviation of all the scores?\n",
    "print('The standard deviation of all the scores is: ', round(np.std(rmse_scores), 3))"
   ]
  },
  {
   "cell_type": "markdown",
   "metadata": {},
   "source": [
    "#### Question 6\n",
    "Split the dataset like previously, use seed 9. \\\n",
    "Combine train and validation datasets. \\\n",
    "Fill the missing values with 0 and train a model with r=0.001. \\\n",
    "What's the RMSE on the test dataset?"
   ]
  },
  {
   "cell_type": "code",
   "execution_count": 34,
   "metadata": {},
   "outputs": [],
   "source": [
    "np.random.seed(9)\n",
    "np.random.shuffle(idx)\n",
    "\n",
    "df_train6 = df.iloc[idx[:n_train]]\n",
    "df_val6 = df.iloc[idx[n_train:n_train+n_val]]\n",
    "df_test6 = df.iloc[idx[n_train+n_val:]]\n",
    "\n",
    "y_train6 = df_train6['final_price'].values\n",
    "y_val6 = df_val6['final_price'].values\n",
    "y_test6 = df_test6['final_price'].values\n",
    "\n",
    "# y_train6 = np.log1p(df_train6['final_price'].values)\n",
    "# y_val6 = np.log1p(df_val6['final_price'].values)\n",
    "# y_test6 = np.log1p(df_test6['final_price'].values)\n",
    "\n",
    "del df_train6['final_price']\n",
    "del df_val6['final_price']\n",
    "del df_test6['final_price']\n",
    "\n",
    "# combine tran and val datasets\n",
    "df_full_train = pd.concat([df_train6, df_val6])\n",
    "df_full_train = df_full_train.reset_index(drop=True)\n",
    "X_full_train = prepare_X(df_full_train)\n",
    "\n",
    "y_full_train = np.concatenate([y_train, y_val])\n",
    "\n"
   ]
  },
  {
   "cell_type": "code",
   "execution_count": 35,
   "metadata": {},
   "outputs": [],
   "source": [
    "w0_6, w6 = train_linear_regression_reg(X_full_train, y_full_train, r=0.001)"
   ]
  },
  {
   "cell_type": "code",
   "execution_count": 37,
   "metadata": {},
   "outputs": [
    {
     "name": "stdout",
     "output_type": "stream",
     "text": [
      "The RMSE score for the test dataset is:  1655.1\n"
     ]
    }
   ],
   "source": [
    "X_test6 = prepare_X(df_test6)\n",
    "y_pred6 = w0_6 + X_test6.dot(w6)\n",
    "score = round(rmse(y_test6, y_pred6),2)\n",
    "print('The RMSE score for the test dataset is: ', score)"
   ]
  },
  {
   "cell_type": "code",
   "execution_count": null,
   "metadata": {},
   "outputs": [],
   "source": [
    "# Didn't get the same result as the solution to last RMSE"
   ]
  }
 ],
 "metadata": {
  "kernelspec": {
   "display_name": ".venv",
   "language": "python",
   "name": "python3"
  },
  "language_info": {
   "codemirror_mode": {
    "name": "ipython",
    "version": 3
   },
   "file_extension": ".py",
   "mimetype": "text/x-python",
   "name": "python",
   "nbconvert_exporter": "python",
   "pygments_lexer": "ipython3",
   "version": "3.12.5"
  }
 },
 "nbformat": 4,
 "nbformat_minor": 2
}
